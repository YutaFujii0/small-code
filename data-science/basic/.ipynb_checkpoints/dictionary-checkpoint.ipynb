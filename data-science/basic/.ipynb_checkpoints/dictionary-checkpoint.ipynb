{
 "cells": [
  {
   "cell_type": "markdown",
   "metadata": {},
   "source": [
    "# EN-JP dictionary\n",
    "\n",
    "English | Japanese\n",
    "-------|-------\n",
    "probability distribution|確率分布\n",
    "Morphological Analysis|形態素分析\n",
    "corpus|コーパス\n",
    "vector|特徴量ベクトル\n",
    "regularization|正則化\n",
    "shrinkage|縮小推定\n",
    "weight decay|荷重減衰\n",
    "multivariate regression|多重線形回帰\n",
    "univariate regression|単回帰分析\n",
    "x subscript 1|x添字1\n",
    "partial derivative|偏微分\n"
   ]
  },
  {
   "cell_type": "markdown",
   "metadata": {},
   "source": [
    "Matrix, trace, determinant, eigenvalues, Carey-Hamilton Theorem\n",
    "\n",
    "https://www.adelaide.edu.au/mathslearning/play/seminars/evalue-magic-tricks-handout.pdf\n",
    "\n"
   ]
  },
  {
   "cell_type": "markdown",
   "metadata": {},
   "source": [
    "# Matrix\n",
    "\n",
    "Let $A$ be a 2-dimensional matrix,\n",
    "\n",
    "$$\\begin{pmatrix} a & b \\\\ c & d \\end{pmatrix}$$\n",
    "\n",
    "$¥mathrm{trace(A)} = a + d$"
   ]
  },
  {
   "cell_type": "code",
   "execution_count": null,
   "metadata": {},
   "outputs": [],
   "source": []
  }
 ],
 "metadata": {
  "kernelspec": {
   "display_name": "Python 3",
   "language": "python",
   "name": "python3"
  },
  "language_info": {
   "codemirror_mode": {
    "name": "ipython",
    "version": 3
   },
   "file_extension": ".py",
   "mimetype": "text/x-python",
   "name": "python",
   "nbconvert_exporter": "python",
   "pygments_lexer": "ipython3",
   "version": "3.6.8"
  },
  "toc": {
   "base_numbering": 1,
   "nav_menu": {},
   "number_sections": true,
   "sideBar": true,
   "skip_h1_title": false,
   "title_cell": "Table of Contents",
   "title_sidebar": "Contents",
   "toc_cell": false,
   "toc_position": {},
   "toc_section_display": true,
   "toc_window_display": false
  }
 },
 "nbformat": 4,
 "nbformat_minor": 2
}
